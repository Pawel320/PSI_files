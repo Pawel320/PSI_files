{
  "cells": [
    {
      "cell_type": "markdown",
      "metadata": {
        "id": "view-in-github",
        "colab_type": "text"
      },
      "source": [
        "<a href=\"https://colab.research.google.com/github/Pawel320/PSI_files/blob/main/AD_Z01_python_introduction.ipynb\" target=\"_parent\"><img src=\"https://colab.research.google.com/assets/colab-badge.svg\" alt=\"Open In Colab\"/></a>"
      ]
    },
    {
      "cell_type": "markdown",
      "metadata": {
        "id": "5y1-gHl0TftG"
      },
      "source": [
        "# Podstawowe operatory\n",
        "\n",
        " * \\+ – dodawanie: 4 + 7.5 daje 11.5;\n",
        " * \\- – odejmowanie: 30 - 24 daje 6;\n",
        " * \\* – mnożenie: 2 * 3 daje 6;\n",
        " * \\*\\* – potęgowanie: 3 ** 4 daje 81;\n",
        " * / – dzielenie: 4 / 3 daje 1.3333333333333333;\n",
        " * // – dzielenie całkowite: 4 // 3.0 daje 1;\n",
        " * % – dzielenie modulo: 8 % 3 daje 2."
      ]
    },
    {
      "cell_type": "markdown",
      "metadata": {
        "id": "4VSpg8GLTftH"
      },
      "source": [
        "# Operatory porównania:\n",
        "\n",
        " * < – mniejsze,\n",
        " * \\> – większe,\n",
        " * <= – mniejsze lub równe,\n",
        " * == – równe,\n",
        " * != – różne."
      ]
    },
    {
      "cell_type": "markdown",
      "metadata": {
        "id": "MPYtgRDkTftH"
      },
      "source": [
        "# 1. Warunki\n",
        "Python używa zmiennych logicznych w celu oceny warunków.\n",
        "Wartości logiczne prawda (True) i fałsz (False) są zwracane, gdy wyrażenie jest porównywane i oceniane.\n",
        "\n",
        "Na przykład:"
      ]
    },
    {
      "cell_type": "code",
      "execution_count": 1,
      "metadata": {
        "colab": {
          "base_uri": "https://localhost:8080/"
        },
        "id": "ARjV_3fxTftJ",
        "outputId": "76c19e8e-3786-4965-93dc-b1b564b952cf"
      },
      "outputs": [
        {
          "output_type": "stream",
          "name": "stdout",
          "text": [
            "True\n",
            "False\n",
            "True\n"
          ]
        }
      ],
      "source": [
        "x = 2\n",
        "print(x == 2)\n",
        "print(x == 3)\n",
        "print(x < 3)"
      ]
    },
    {
      "cell_type": "markdown",
      "metadata": {
        "id": "a5Wr_7wSTftK"
      },
      "source": [
        "# 1.1 Instrukcje Warunkowe\n",
        "Aby uzależnić wykonanie instrukcji od rezultatu porównania, używamy instrukcji warunkowej"
      ]
    },
    {
      "cell_type": "code",
      "execution_count": 2,
      "metadata": {
        "colab": {
          "base_uri": "https://localhost:8080/"
        },
        "id": "HaJIxfH_TftK",
        "outputId": "1a1419ba-f8df-4dc8-bc47-8bb4c1dc8c0e"
      },
      "outputs": [
        {
          "output_type": "stream",
          "name": "stdout",
          "text": [
            "OK\n"
          ]
        }
      ],
      "source": [
        "x=2\n",
        "\n",
        "if x==2:\n",
        "    print(\"OK\")"
      ]
    },
    {
      "cell_type": "markdown",
      "metadata": {
        "id": "Jlk_0zELTftL"
      },
      "source": [
        "Przykład bardziej skomplikowany:"
      ]
    },
    {
      "cell_type": "code",
      "execution_count": 3,
      "metadata": {
        "colab": {
          "base_uri": "https://localhost:8080/"
        },
        "id": "Gztw6JY8TftL",
        "outputId": "986363dc-0b12-4559-ff06-432d4e902d8f"
      },
      "outputs": [
        {
          "output_type": "stream",
          "name": "stdout",
          "text": [
            "2\n"
          ]
        }
      ],
      "source": [
        "a = 2\n",
        "b = 4\n",
        "if a > b:\n",
        "    print(b)\n",
        "else:\n",
        "    print(a)"
      ]
    },
    {
      "cell_type": "markdown",
      "metadata": {
        "id": "FK6miOMYTftL"
      },
      "source": [
        "W powyższym przykładzie użyliśmy pełnej instrukcji warunkowej <b>IF/ELSE</b>. Istnieje jeszcze bardziej bogatsza instrukcja warunkowa tzw. instrukcja wyboru wielokrotnego <b>IF/ELIF/ELSE</b>:"
      ]
    },
    {
      "cell_type": "code",
      "execution_count": 4,
      "metadata": {
        "colab": {
          "base_uri": "https://localhost:8080/"
        },
        "id": "SrPwMJoWTftM",
        "outputId": "e81b246b-8d14-4173-f1f4-622c0634deb1"
      },
      "outputs": [
        {
          "output_type": "stream",
          "name": "stdout",
          "text": [
            "Ten program porównuje dwie liczby\n",
            "Podaj pierwszą z dwóch liczb:2\n",
            "Podaj drugą z dwóch liczb:6\n",
            "Liczba 2 w stosunku do 6 jest:\n",
            "mniejsza\n"
          ]
        }
      ],
      "source": [
        "print(\"Ten program porównuje dwie liczby\")\n",
        "x = input(\"Podaj pierwszą z dwóch liczb:\")\n",
        "y = input(\"Podaj drugą z dwóch liczb:\")\n",
        "print(\"Liczba\",x,\"w stosunku do\",y,\"jest:\",)\n",
        "if x==y:\n",
        "    print(\"taka sama\")\n",
        "elif x>y:\n",
        "    print(\"większa\")\n",
        "else:\n",
        "    print(\"mniejsza\")"
      ]
    },
    {
      "cell_type": "markdown",
      "metadata": {
        "id": "VtNie0gmTftM"
      },
      "source": [
        "# Operatory logiczne\n",
        "Operatory logiczne, takie jak: <b>and</b> i <b>or</b> umożliwiają budowanie złożonych wyrażeń logicznych, na przykład:"
      ]
    },
    {
      "cell_type": "markdown",
      "metadata": {
        "id": "vDXZFAYgTftM"
      },
      "source": [
        "# Zad. 1\n",
        "\n",
        "Napisz program, który sprawdzi, czy podane przez użytkownika koła mają niepuste przecięcie. Użytkownik programu podaje współrzędne środka oraz promień każdego koła.\n"
      ]
    },
    {
      "cell_type": "code",
      "execution_count": 8,
      "metadata": {
        "collapsed": true,
        "jupyter": {
          "outputs_hidden": true
        },
        "colab": {
          "base_uri": "https://localhost:8080/"
        },
        "id": "syoJsPOKTftM",
        "outputId": "e46f0036-7af6-4669-fb21-9947fba048d7"
      },
      "outputs": [
        {
          "output_type": "stream",
          "name": "stdout",
          "text": [
            "Podaj x1:2\n",
            "Podaj y1:2\n",
            "Podaj r1:1\n",
            "Podaj x2:4\n",
            "Podaj y2:4\n",
            "Podaj r2:1\n",
            "Nie przecinaja sie\n"
          ]
        }
      ],
      "source": [
        "x1 = int(input(\"Podaj x1:\"))\n",
        "y1 = int(input(\"Podaj y1:\"))\n",
        "r1 = int(input(\"Podaj r1:\"))\n",
        "x2 = int(input(\"Podaj x2:\"))\n",
        "y2 = int(input(\"Podaj y2:\"))\n",
        "r2 = int(input(\"Podaj r2:\"))\n",
        "if ( (x1-x2)**2 + (y1-y2)**2 <= (r1+r2)**2):\n",
        "    print(\"Przecinaja sie\")\n",
        "else:\n",
        "    print(\"Nie przecinaja sie\")\n",
        ""
      ]
    },
    {
      "cell_type": "markdown",
      "metadata": {
        "id": "XkZ-Cd0zTftN"
      },
      "source": [
        "# Operator ,,in''\n",
        "Operator <b>in</b> może być używany w celu sprawdzenia, czy określony ,,obiekt'' istnieje w obrębie iterowalnego kontenera obiektów, np. listy:"
      ]
    },
    {
      "cell_type": "code",
      "execution_count": null,
      "metadata": {
        "id": "mY8g_eKETftN",
        "outputId": "80d8548c-c765-4dde-f990-200fb2afb661"
      },
      "outputs": [
        {
          "name": "stdout",
          "output_type": "stream",
          "text": [
            "Your name is not either John or Rick.\n"
          ]
        }
      ],
      "source": [
        "name = \"Adam\"\n",
        "if name in [\"John\", \"Rick\"]:\n",
        "    print(\"Your name is either John or Rick.\")\n",
        "else:\n",
        "    print(\"Your name is not either John or Rick.\")"
      ]
    },
    {
      "cell_type": "markdown",
      "metadata": {
        "id": "MkLRzhgPTftN"
      },
      "source": [
        "Instrukcje warunkowe możemy zagnieżdżać, np.:"
      ]
    },
    {
      "cell_type": "markdown",
      "metadata": {
        "id": "QfI6H5XnTftN"
      },
      "source": [
        "# 2. Pętle\n",
        "W Pythonie istnieją dwa typy pętli: <b>for<b> i <b>while<b>."
      ]
    },
    {
      "cell_type": "markdown",
      "metadata": {
        "id": "R17_0g0hTftO"
      },
      "source": [
        "# 2.1 Pętle iterowane po elementach sekwencji\n",
        "\n",
        "Typowa pętla po liczbach:"
      ]
    },
    {
      "cell_type": "code",
      "execution_count": 10,
      "metadata": {
        "colab": {
          "base_uri": "https://localhost:8080/"
        },
        "id": "F9yJBSZATftO",
        "outputId": "8fd67050-3d8e-4a4f-cdd1-24718ca1154e"
      },
      "outputs": [
        {
          "output_type": "stream",
          "name": "stdout",
          "text": [
            "3\n",
            "4\n",
            "5\n",
            "6\n",
            "7\n",
            "8\n",
            "9\n"
          ]
        }
      ],
      "source": [
        "for x in range(3,10):\n",
        "      print(x)"
      ]
    },
    {
      "cell_type": "markdown",
      "metadata": {
        "id": "h6tOFFQ7TftO"
      },
      "source": [
        "Funkcja <b>range</b> tworzy \"listę\" wartości całkowitych:\n",
        "\n",
        "- od zera do podanej wartości (jeżeli podamy 1 argument)\n",
        "- od - do (jeżeli podamy 2 argumenty)\n",
        "- możemy podać też trzeci parametr określający przyrost (normalnie +1).\n"
      ]
    },
    {
      "cell_type": "code",
      "execution_count": 11,
      "metadata": {
        "colab": {
          "base_uri": "https://localhost:8080/"
        },
        "id": "XgvHw3QtTftO",
        "outputId": "5ab7d983-a456-4a57-a84f-5973a559844a"
      },
      "outputs": [
        {
          "output_type": "stream",
          "name": "stdout",
          "text": [
            "range(0, 10)\n",
            "range(3, 10)\n",
            "range(1, 10, 2)\n",
            "range(4, 0, -1)\n"
          ]
        }
      ],
      "source": [
        "print(range(10))\n",
        "print(range(3, 10))\n",
        "print(range(1,10,2))\n",
        "print(range(4,0,-1))"
      ]
    },
    {
      "cell_type": "markdown",
      "metadata": {
        "id": "1XlF1pvOTftP"
      },
      "source": [
        "Pętla <b>for</b> może też iterować inne typy danych, np napisy, listy:"
      ]
    },
    {
      "cell_type": "code",
      "execution_count": 15,
      "metadata": {
        "colab": {
          "base_uri": "https://localhost:8080/"
        },
        "id": "LJ5uZKUoTftP",
        "outputId": "a17ae324-a4e4-4902-8825-3732da4f146f"
      },
      "outputs": [
        {
          "output_type": "stream",
          "name": "stdout",
          "text": [
            "Zdrabniamy literki\n",
            "2 3 5 7 \n",
            "apple orange peach "
          ]
        }
      ],
      "source": [
        "bar = \"Zdrabniamy literki\"\n",
        "for i in bar:\n",
        "    print(i, end =\"\")\n",
        "print()\n",
        "\n",
        "x = [2, 3, 5, 7]\n",
        "for i in x:\n",
        "    print(i, end =\" \")\n",
        "print()\n",
        "\n",
        "for e in ['apple', 'orange', 'peach']:\n",
        "    print(e, end = \" \")"
      ]
    },
    {
      "cell_type": "markdown",
      "metadata": {
        "id": "OUcAoGkVTftP"
      },
      "source": [
        "W takiej pętli nie mamy dostępu do indeksu elementu w liście, ale możemy taki uzyskać, odpowiednio mapując kolekcję za pomocą <b>enumerate</b> (generator):"
      ]
    },
    {
      "cell_type": "code",
      "execution_count": null,
      "metadata": {
        "id": "BH0TGFPNTftP",
        "outputId": "8f50296e-7117-4a98-8240-2562dd777712"
      },
      "outputs": [
        {
          "name": "stdout",
          "output_type": "stream",
          "text": [
            "[(0, 'apple'), (1, 'orange'), (2, 'peach')] \n",
            "\n",
            "0 apple\n",
            "1 orange\n",
            "2 peach\n"
          ]
        }
      ],
      "source": [
        "print(list(enumerate(['apple', 'orange', 'peach'])), \"\\n\")\n",
        "\n",
        "for i, x in enumerate(['apple', 'orange', 'peach']):\n",
        "    print(i, x)"
      ]
    },
    {
      "cell_type": "markdown",
      "metadata": {
        "id": "IfIP3H3ZTftP"
      },
      "source": [
        "# 2.2 Pętla while\n",
        "\n",
        "Pętla **while** powtarza instrukcje znajdujące się w jej wnętrzu tak długo, dopóki podany warunek logiczny jest spełniony.\n",
        "\n",
        "Na przykład:"
      ]
    },
    {
      "cell_type": "code",
      "execution_count": null,
      "metadata": {
        "id": "khvcDN0yTftP",
        "outputId": "74fe2261-578a-4b33-f985-1ce02dd7338f"
      },
      "outputs": [
        {
          "name": "stdout",
          "output_type": "stream",
          "text": [
            "[1, 2, 3, 4, 5]\n",
            "[1, 2, 3, 4]\n",
            "[1, 2, 3]\n",
            "[1, 2]\n",
            "[1]\n",
            "[]\n"
          ]
        }
      ],
      "source": [
        "x=[1,2,3,4,5,6]\n",
        "while x:\n",
        "    x=x[:len(x)-1] # funkcja len() zwraca długość listy (liczbę elementów)\n",
        "    print(x)"
      ]
    },
    {
      "cell_type": "code",
      "execution_count": 16,
      "metadata": {
        "colab": {
          "base_uri": "https://localhost:8080/"
        },
        "id": "1CIE5odeTftQ",
        "outputId": "14fc667d-38bf-4d7d-e91c-40e87cf4610c"
      },
      "outputs": [
        {
          "output_type": "stream",
          "name": "stdout",
          "text": [
            "Jestem w while.\n",
            "Jestem w while.\n",
            "Jestem w while.\n",
            "Jestem w while.\n",
            "Jestem w while.\n"
          ]
        }
      ],
      "source": [
        "import time\n",
        "licznik = 10\n",
        "\n",
        "while licznik < 15:\n",
        "    licznik += 1\n",
        "    print(\"Jestem w while.\")\n",
        "    time.sleep(3)"
      ]
    },
    {
      "cell_type": "markdown",
      "metadata": {
        "id": "FRkb9pUrTftQ"
      },
      "source": [
        "\n",
        "# Zad. 2\n",
        "Napisz program, który będzie wczytywał kolejne słowa i je wypisywał aż do wczytania słowa \"stop\" po którym program się zatrzyma.\n"
      ]
    },
    {
      "cell_type": "code",
      "execution_count": 17,
      "metadata": {
        "colab": {
          "base_uri": "https://localhost:8080/"
        },
        "id": "GKTuNmV2TftQ",
        "outputId": "9e363294-c3b3-42b4-c035-a83499dac7ec"
      },
      "outputs": [
        {
          "name": "stdout",
          "output_type": "stream",
          "text": [
            "Podaj slowo:ja\n",
            "ja\n",
            "ujhg\n",
            "ujhg\n",
            "aaa\n",
            "aaa\n",
            "stop\n"
          ]
        }
      ],
      "source": [
        "word = input(\"Podaj slowo:\")\n",
        "while word != \"stop\":\n",
        "    print(word)\n",
        "    word =input()"
      ]
    },
    {
      "cell_type": "markdown",
      "metadata": {
        "id": "e5eRbuHwTftQ"
      },
      "source": [
        "# Zad. 3\n",
        "\n",
        "Napisz program tworzący tablicę n na m elementową w kształcie tablicy szachowej. Np. dla\n",
        "<br />\n",
        "<tt>\n",
        "n = 5<br />\n",
        "m = 5\n",
        "</tt>\n",
        "\n",
        "otrzymujemy\n",
        "\n",
        "<br />\n",
        "<tt>\n",
        "10101<br />\n",
        "01010<br />\n",
        "10101<br />\n",
        "01010<br />\n",
        "10101<br />\n",
        "</tt>"
      ]
    },
    {
      "cell_type": "code",
      "execution_count": 20,
      "metadata": {
        "colab": {
          "base_uri": "https://localhost:8080/"
        },
        "id": "-X5uLwz7TftQ",
        "outputId": "f21b5479-d7dc-4aea-913d-e03d52f535f6"
      },
      "outputs": [
        {
          "output_type": "stream",
          "name": "stdout",
          "text": [
            "10101\n",
            "01010\n",
            "10101\n",
            "01010\n",
            "10101\n"
          ]
        }
      ],
      "source": [
        "n=5\n",
        "m=5\n",
        "for i in range(n):\n",
        "    for j in range(m):\n",
        "      print((i+j + 1)%2, end=\"\")\n",
        "    print()"
      ]
    },
    {
      "cell_type": "markdown",
      "metadata": {
        "id": "GEZc_85ATftQ"
      },
      "source": [
        "# 3. Formatowanie liczb\n",
        "\n",
        "Celem pętli często jest wyświetlenie kolumny liczb.\n",
        "\n",
        "Aby liczby wyświetlane były w należyty sposób i w pożądanym miejscu używamy operatora formatowania **%** w połączeniu z ciągiem formatującym.\n",
        "\n",
        "Ciąg formatujący składa się ze znaku **%**, po którym następują\n",
        "\n",
        "* opcje formatowania,\n",
        "* ilość znaków przeznaczonych do wyświetlenia\n",
        "* oraz typ danej do wyświetlenia\n",
        "(przy czym tylko trzeci element – tj. typ danych jest wymagany).\n",
        "\n",
        "Typ danej sygnalizujemy pojedynczą literą. I tak:\n",
        "* litera s oznacza napis (konwertuje każdy typ danych na tekst), np.:"
      ]
    },
    {
      "cell_type": "code",
      "execution_count": 21,
      "metadata": {
        "colab": {
          "base_uri": "https://localhost:8080/"
        },
        "id": "0NDhaaiqTftR",
        "outputId": "730da2ef-ccae-413b-8697-a4c660e66b71"
      },
      "outputs": [
        {
          "output_type": "stream",
          "name": "stdout",
          "text": [
            "10\n",
            "[0, 1, 2, 3, 4, 5]\n",
            "txt\n",
            "      test\n",
            "test      \n",
            "xylop\n"
          ]
        }
      ],
      "source": [
        "# stary sposób\n",
        "\n",
        "print(\"%s\" % 10)\n",
        "print(\"%s\" % list(range(6)))\n",
        "print(\"%s\" % \"txt\")\n",
        "print('%10s' % 'test')\n",
        "print('%-10s' % 'test')\n",
        "print('%.5s' % 'xylophone')"
      ]
    },
    {
      "cell_type": "markdown",
      "metadata": {
        "id": "2JXF9HsZTftR"
      },
      "source": [
        "* litera **d** oznacza dziesiętną liczbę całkowitą (konwertuje kompatybilny typ danych na liczbę całkowitą), np.:"
      ]
    },
    {
      "cell_type": "code",
      "execution_count": 22,
      "metadata": {
        "colab": {
          "base_uri": "https://localhost:8080/"
        },
        "id": "1quny8LATftR",
        "outputId": "ab53d018-2d4b-43a7-face-53af0fe8ae40"
      },
      "outputs": [
        {
          "output_type": "stream",
          "name": "stdout",
          "text": [
            "255\n",
            "2\n",
            "255\n",
            "2\n"
          ]
        }
      ],
      "source": [
        "print(\"%d\" % 0xff)\n",
        "print(\"%d\" % 2)\n",
        "print('{:d}'.format(0xff))\n",
        "print('{:d}'.format(2))"
      ]
    },
    {
      "cell_type": "markdown",
      "metadata": {
        "id": "sSmvGnmPTftR"
      },
      "source": [
        "* litera **f** oznacza liczbę zmiennopozycyjną w postaci ułamka dziesiętnego, np.:"
      ]
    },
    {
      "cell_type": "code",
      "execution_count": 23,
      "metadata": {
        "colab": {
          "base_uri": "https://localhost:8080/"
        },
        "id": "ftTGqL7tTftR",
        "outputId": "377bd9ba-1953-4cf3-bc53-d722d67bb7e0"
      },
      "outputs": [
        {
          "output_type": "stream",
          "name": "stdout",
          "text": [
            "123.000000\n",
            "1.230000\n",
            "123.000000\n",
            "1.230000\n"
          ]
        }
      ],
      "source": [
        "print(\"%f\" % 123)\n",
        "print(\"%f\" % 1.23)\n",
        "\n",
        "print('{:f}'.format(123))\n",
        "print('{:f}'.format(1.23))"
      ]
    },
    {
      "cell_type": "markdown",
      "metadata": {
        "id": "GaXmWm1jTftR"
      },
      "source": [
        "# Zad. 4\n",
        "\n",
        "Napisać program rysujący \"miarkę\" o zadanej długości. Należy prawidłowo obsłużyć liczby składające się z kilku cyfr, np.:\n",
        "\n",
        "$$|....|....|....|....|....|....|....|....|$$\n",
        "$$0 \\quad \\ 1 \\quad \\ 2 \\quad \\ 3 \\quad \\ 4 \\quad \\ 5 \\quad \\ 6 \\quad \\ 7 \\quad \\ 8$$"
      ]
    },
    {
      "cell_type": "code",
      "execution_count": 29,
      "metadata": {
        "colab": {
          "base_uri": "https://localhost:8080/"
        },
        "id": "AEyCv828TftS",
        "outputId": "8e78f25e-2f8d-4ee2-c771-cc59bdc00fbe"
      },
      "outputs": [
        {
          "output_type": "stream",
          "name": "stdout",
          "text": [
            "Podaj dlugosc miarki:\n",
            "9\n",
            "|....|....|....|....|....|....|....|....|....|\n",
            "    0    1    2    3    4    5    6    7    8"
          ]
        }
      ],
      "source": [
        "print(\"Podaj dlugosc miarki:\")\n",
        "x = int(input())\n",
        "print(\"|\", end = \"\")\n",
        "for i in range(x):\n",
        "  print(\"....|\", end=\"\")\n",
        "print()\n",
        "for i in range(x):\n",
        "  print(\"%5d\" % i, end=\"\")"
      ]
    },
    {
      "cell_type": "markdown",
      "metadata": {
        "id": "k0i5UgCZTftS"
      },
      "source": [
        "# Funkcje\n",
        "\n",
        "Definicja funkcji musi zawierać:\n",
        "\n",
        "* nagłówek funkcji:\n",
        "  * nazwę funkcji, która pozwoli zidentyfikować funkcję w pozostałej części programu,\n",
        "  * listę argumentów\n",
        "* ciało funkcji, zawierające instrukcje, które zostaną wykonane w momencie wywołania (użycia) funkcji\n",
        "  * jeżeli funkcja ma zwracać jakiś rezultat, musi zawierać instrukcję ,,return''\n",
        "\n",
        "W języku Python składnia definicji funkcji jest następująca:"
      ]
    },
    {
      "cell_type": "code",
      "execution_count": null,
      "metadata": {
        "id": "BCaXjXRVTftS"
      },
      "outputs": [],
      "source": [
        "def nazwa_funkcji (lista_parametrow):\n",
        "    instrukcje_do_wykonania"
      ]
    },
    {
      "cell_type": "markdown",
      "metadata": {
        "id": "E-2wU8uHTftS"
      },
      "source": [
        "Przykład funkcji:"
      ]
    },
    {
      "cell_type": "code",
      "execution_count": null,
      "metadata": {
        "id": "JpltEHx9TftS",
        "outputId": "51bda9fb-d246-4981-f70c-90d80ce4f14a"
      },
      "outputs": [
        {
          "name": "stdout",
          "output_type": "stream",
          "text": [
            "To jest użycie funkcji\n",
            "tak\n"
          ]
        }
      ],
      "source": [
        "# Przykład 1\n",
        "def wypisz(lancuch):\n",
        "    print(lancuch)\n",
        "\n",
        "wypisz(\"To jest użycie funkcji\")\n",
        "x = \"tak\"\n",
        "wypisz(x)"
      ]
    },
    {
      "cell_type": "code",
      "execution_count": null,
      "metadata": {
        "id": "h796yzoxTftS",
        "outputId": "f5f6c542-4a3b-44c9-8363-bd1e70073995"
      },
      "outputs": [
        {
          "name": "stdout",
          "output_type": "stream",
          "text": [
            "12\n",
            "1\n"
          ]
        }
      ],
      "source": [
        "# Przykład 2 - zwraca wynik\n",
        "def suma(x, y):\n",
        "    return x+y\n",
        "\n",
        "print(suma(4,8))\n",
        "x = suma(2, -1)\n",
        "print(x)"
      ]
    },
    {
      "cell_type": "markdown",
      "metadata": {
        "id": "7eGb1aEJTftT"
      },
      "source": [
        "## Wiele rezultatów\n",
        "Jeżeli chcemy aby funkcja zwracała więcej niż jedną zmienną to stosujemy krotkę ,,(zmienna_1, ..., zmienna_n)'':"
      ]
    },
    {
      "cell_type": "code",
      "execution_count": null,
      "metadata": {
        "id": "g2R1lqVzTftT",
        "outputId": "ac31bc0e-21e6-43cc-d4bc-9d180507d185"
      },
      "outputs": [
        {
          "name": "stdout",
          "output_type": "stream",
          "text": [
            "(6, -2)\n",
            "(6, -2)\n"
          ]
        }
      ],
      "source": [
        "def f1(a,b):\n",
        "    return a+b,a-b\n",
        "\n",
        "def f2(a,b):\n",
        "    return (a+b,a-b)\n",
        "\n",
        "print(f1(2, 4))\n",
        "print(f2(2, 4))"
      ]
    },
    {
      "cell_type": "markdown",
      "metadata": {
        "id": "K5tGgYRxTftT"
      },
      "source": [
        "# Zad. 5\n",
        "\n",
        "Napisz funkcje, która zwraca:\n",
        "\n",
        "* sumę,\n",
        "* różnicę,\n",
        "* iloczyn elementów listy.\n"
      ]
    },
    {
      "cell_type": "code",
      "execution_count": 33,
      "metadata": {
        "collapsed": true,
        "jupyter": {
          "outputs_hidden": true
        },
        "colab": {
          "base_uri": "https://localhost:8080/"
        },
        "id": "eZgKCDS3TftT",
        "outputId": "24fe3744-f86c-4b1e-d017-b7f3dc288a32"
      },
      "outputs": [
        {
          "output_type": "stream",
          "name": "stdout",
          "text": [
            "(15, -15, 120)\n"
          ]
        }
      ],
      "source": [
        "list = [1,2,3,4,5]\n",
        "def function(list):\n",
        "  sum=0\n",
        "  diff=0\n",
        "  prod=1\n",
        "  for i in range(len(list)):\n",
        "    sum+=list[i]\n",
        "    diff-=list[i]\n",
        "    prod*=list[i]\n",
        "  return(sum,diff,prod)\n",
        "\n",
        "print(function(list))"
      ]
    },
    {
      "cell_type": "markdown",
      "metadata": {
        "collapsed": false,
        "jupyter": {
          "outputs_hidden": false
        },
        "id": "s_QDPuo_TftT"
      },
      "source": [
        "# Klasy\n",
        "\n",
        "Definicja klasy musi zawierać:\n",
        "\n",
        "* nagłówek klasy:\n",
        "  * nazwę klasy, która pozwoli zidentyfikować klasę w pozostałej części programu,\n",
        "* ciało klasy, zawierające atrybuty i metody, które definiują zachowanie i właściwości obiektów danej klasy.\n",
        "\n",
        "W języku Python składnia definicji klasy jest następująca:\n"
      ]
    },
    {
      "cell_type": "code",
      "execution_count": null,
      "metadata": {
        "jupyter": {
          "outputs_hidden": false
        },
        "id": "YUpzDWLdTftU"
      },
      "outputs": [],
      "source": [
        "class Nazwa_klasy:\n",
        "    def funkcja1(self):\n",
        "        pass\n",
        "\n",
        "    def funkcja2(self):\n",
        "        pass"
      ]
    },
    {
      "cell_type": "markdown",
      "metadata": {
        "collapsed": false,
        "jupyter": {
          "outputs_hidden": false
        },
        "id": "qXaCKeZbTftU"
      },
      "source": [
        "Przykład klasy:"
      ]
    },
    {
      "cell_type": "code",
      "execution_count": null,
      "metadata": {
        "jupyter": {
          "outputs_hidden": false
        },
        "id": "ZJLRfw1kTftU",
        "outputId": "47ad9187-91a6-4092-cdef-47a8db536429"
      },
      "outputs": [
        {
          "name": "stdout",
          "output_type": "stream",
          "text": [
            "Ilość kół: 4\n",
            "Ilość drzwi: 5\n",
            "Maksymalna prędkość: 200\n",
            "Kolor: czerwony\n",
            "Zmieniono kolor na zielony\n",
            "Aktualna maksymalna prędkość: 220\n",
            "Otwarto drzwi.\n"
          ]
        }
      ],
      "source": [
        "# Przykład 1\n",
        "\n",
        "class Samochody:\n",
        "    def __init__(self, ilosc_kol, ilosc_drzwi, max_predkosc, kolor):\n",
        "        self.ilosc_kol = ilosc_kol\n",
        "        self.ilosc_drzwi = ilosc_drzwi\n",
        "        self.max_predkosc = max_predkosc\n",
        "        self.kolor = kolor\n",
        "\n",
        "    def wyswietl_informacje(self):\n",
        "        print(\"Ilość kół:\", self.ilosc_kol)\n",
        "        print(\"Ilość drzwi:\", self.ilosc_drzwi)\n",
        "        print(\"Maksymalna prędkość:\", self.max_predkosc)\n",
        "        print(\"Kolor:\", self.kolor)\n",
        "\n",
        "    def zmien_kolor(self, nowy_kolor):\n",
        "        self.kolor = nowy_kolor\n",
        "        print(\"Zmieniono kolor na\", self.kolor)\n",
        "\n",
        "    def przyspiesz(self, o_ile):\n",
        "        self.max_predkosc += o_ile\n",
        "        print(\"Aktualna maksymalna prędkość:\", self.max_predkosc)\n",
        "\n",
        "    def otworz_drzwi(self):\n",
        "        if self.ilosc_drzwi >= 1:\n",
        "            print(\"Otwarto drzwi.\")\n",
        "        else:\n",
        "            print(\"Samochód nie ma drzwi.\")\n",
        "\n",
        "# Przykład użycia klasy Samochody\n",
        "moj_samochod = Samochody(4, 5, 200, \"czerwony\")\n",
        "moj_samochod.wyswietl_informacje()\n",
        "moj_samochod.zmien_kolor(\"zielony\")\n",
        "moj_samochod.przyspiesz(20)\n",
        "moj_samochod.otworz_drzwi()\n"
      ]
    },
    {
      "cell_type": "markdown",
      "metadata": {
        "collapsed": false,
        "jupyter": {
          "outputs_hidden": false
        },
        "id": "i7_zNgTaTftU"
      },
      "source": [
        "# Zad. 6\n",
        "\n",
        "Napisz klase, która reprezentuje naukowy artykul:\n",
        "\n",
        "* klasa powinna miec przynajmniej 5 funkcij"
      ]
    },
    {
      "cell_type": "code",
      "source": [
        "class Artykul:\n",
        "  def __init__(self, tytul, autorzy, wspoltworcy, data_powstania, cena):\n",
        "    self.tytul = tytul\n",
        "    self.autorzy = autorzy\n",
        "    self.data_powstania = data_powstania\n",
        "\n",
        "    self.cena = cena\n",
        "  def wyswietl_informacje(self):\n",
        "    print(\"Tytul:\", self.tytul)\n",
        "    print(\"Autorzy:\", self.autorzy)\n",
        "    print(\"Data powstania:\", self.data_powstania)\n",
        "    print(\"Cena:\", self.cena)\n",
        "  def zmien_cene(self,value):\n",
        "      self.cena = value\n",
        "      print(\"Nowa cena:\", self.cena)\n",
        "  def dodaj_wspoltworce(self,wspoltworca):\n",
        "    self.wspoltworcy.append(wspoltworca)\n",
        "    print(\"Dodano wspoltworce:\", wspoltworca)\n",
        "  def zmien_tytul(self,tytul):\n",
        "    self.tytul = tytul\n",
        "    print(\"Nowy tytul:\", self.tytul)"
      ],
      "metadata": {
        "id": "zNp1M5MFdom6"
      },
      "execution_count": null,
      "outputs": []
    },
    {
      "cell_type": "code",
      "execution_count": null,
      "metadata": {
        "jupyter": {
          "outputs_hidden": false
        },
        "id": "fgoK83quTftU"
      },
      "outputs": [],
      "source": []
    },
    {
      "cell_type": "markdown",
      "metadata": {
        "id": "iUeisQFETftU"
      },
      "source": [
        "# Typy sekwencyjne\n",
        "\n",
        "Sekwencyjne typy danych służą do przechowywaniu wielu wartości w pojedynczej zmiennej (w innych językach nazywane tablicami), w odróżnieniu od typów prostych, takich jak np. int, które w pojedynczej zmiennej mogą zachować tylko jedną wartość. Do typów sekwencyjnych należą: napisy (łańcuchy znaków), listy, krotki."
      ]
    },
    {
      "cell_type": "markdown",
      "metadata": {
        "id": "AMl6rdoyTftV"
      },
      "source": [
        "# 1. Napisy/łańcuchy\n",
        "Do tej pory poznaliśmy już jeden typ sekwencyjny, mianowicie typ łańcuchowy (łańcuchy znaków). Wartości napisów podajemy w cudzysłowach lub apostrofach:"
      ]
    },
    {
      "cell_type": "code",
      "execution_count": null,
      "metadata": {
        "id": "EHIetykjTftV",
        "outputId": "47359530-305e-4a5b-8b37-0133dcbf61db"
      },
      "outputs": [
        {
          "name": "stdout",
          "output_type": "stream",
          "text": [
            "T\n",
            "o\n",
            "j\n",
            "s\n",
            "i\n",
            "p\n"
          ]
        }
      ],
      "source": [
        "x = \"To jest napis\"\n",
        "print(x[0])\n",
        "print(x[1])\n",
        "print(x[3])\n",
        "\n",
        "print(x[-1])\n",
        "print(x[-2])\n",
        "print(x[-3])"
      ]
    },
    {
      "cell_type": "code",
      "execution_count": null,
      "metadata": {
        "id": "2pE-75TRTftV",
        "outputId": "3e255054-8e29-41d7-8103-ea93ce58658c"
      },
      "outputs": [
        {
          "name": "stdout",
          "output_type": "stream",
          "text": [
            "13\n"
          ]
        }
      ],
      "source": [
        "x = \"To jest napis\"\n",
        "print(len(x))"
      ]
    },
    {
      "cell_type": "markdown",
      "metadata": {
        "id": "WMTyUgnLTftV"
      },
      "source": [
        "# 2. Listy\n",
        "Do zapamiętywania sekwencji danych nie będącymi znakami (np. liczby) służy typ sekwencyjny - **lista**. Elementy list mogą być dowolnego typu, to znaczy mogą zawierać zarówno liczby jak i napisy."
      ]
    },
    {
      "cell_type": "code",
      "execution_count": null,
      "metadata": {
        "id": "casdWSuKTftV",
        "outputId": "e9dea704-286b-4272-81c0-3bc99675ca84"
      },
      "outputs": [
        {
          "name": "stdout",
          "output_type": "stream",
          "text": [
            "[1, 2, 3]\n",
            "[1, 'tak', 5]\n"
          ]
        }
      ],
      "source": [
        "x = [1, 2, 3]\n",
        "y = [1, 'tak', 5]\n",
        "\n",
        "print(x)\n",
        "print(y)"
      ]
    },
    {
      "cell_type": "code",
      "execution_count": null,
      "metadata": {
        "id": "CurkKRSuTftV",
        "outputId": "674b84ef-a9af-4552-d4a5-271c532314bc"
      },
      "outputs": [
        {
          "name": "stdout",
          "output_type": "stream",
          "text": [
            "True\n",
            "False\n",
            "True\n"
          ]
        }
      ],
      "source": [
        "x = [1, 2, 3, 4]\n",
        "\n",
        "print(2 in x)\n",
        "print(3 not in x)\n",
        "print(5 not in x)"
      ]
    },
    {
      "cell_type": "code",
      "execution_count": 34,
      "metadata": {
        "colab": {
          "base_uri": "https://localhost:8080/"
        },
        "id": "ZeNncRozTftV",
        "outputId": "1cf20d20-6631-4340-9f89-64fc3cfdf1dc"
      },
      "outputs": [
        {
          "output_type": "stream",
          "name": "stdout",
          "text": [
            "[range(0, 5), [8, -7, -1]]\n",
            "range(0, 5)\n",
            "[8, -7, -1]\n",
            "-7\n"
          ]
        }
      ],
      "source": [
        "x = [range(5), [8, -7, -1]]\n",
        "\n",
        "print(x)\n",
        "print(x[0])\n",
        "print(x[1])\n",
        "print(x[1][1])"
      ]
    },
    {
      "cell_type": "markdown",
      "metadata": {
        "id": "iCgnRu9ZTftW"
      },
      "source": [
        "# Zad. 7\n",
        "\n",
        "Napisać program zamieniający napis na napis „rozstrzelony”, czyli wstawiający spacje przed napisem, pomiędzy literami i po napisie. Przykład: **'Python' → ' P y t h o n '**."
      ]
    },
    {
      "cell_type": "code",
      "execution_count": 35,
      "metadata": {
        "colab": {
          "base_uri": "https://localhost:8080/"
        },
        "id": "2X82WQwNTftW",
        "outputId": "60349902-7f4f-4dec-eaea-f2f9664f49fa"
      },
      "outputs": [
        {
          "output_type": "stream",
          "name": "stdout",
          "text": [
            " P y t h o n \n"
          ]
        }
      ],
      "source": [
        "def spacing (word):\n",
        "  new_word = \" \"\n",
        "  for i in range(len(word)):\n",
        "    new_word = new_word + word[i] + \" \"\n",
        "  return new_word\n",
        "\n",
        "print(spacing(\"Python\"))"
      ]
    },
    {
      "cell_type": "markdown",
      "metadata": {
        "id": "IskJbiR_TftW"
      },
      "source": [
        "# Zad. 8\n",
        "\n",
        "Napisz funkcję **reverse(napis)**, która z napisu będącego jej argumentem tworzy odwrócony napis. Przykładowo, wywołanie reverse(\"hello\") powinno zwrócić napis \"olleh\"."
      ]
    },
    {
      "cell_type": "code",
      "execution_count": 42,
      "metadata": {
        "colab": {
          "base_uri": "https://localhost:8080/"
        },
        "id": "G_giY0c6TftW",
        "outputId": "7f55636c-56c5-44cd-b406-7480822c6f6c"
      },
      "outputs": [
        {
          "output_type": "stream",
          "name": "stdout",
          "text": [
            "olleh\n"
          ]
        }
      ],
      "source": [
        "def reverse(word):\n",
        "  new_word=\"\"\n",
        "  for i in range(1,1+len(word)):\n",
        "    new_word += word[-i]\n",
        "  return new_word\n",
        "\n",
        "print(reverse(\"hello\"))"
      ]
    },
    {
      "cell_type": "markdown",
      "metadata": {
        "id": "HnCaepR_TftX"
      },
      "source": [
        "## Moduły i pakiety\n",
        "Moduł to plik w Pythonie zawierający definicję klas, funkcji, stałych i zmiennych. Definicje zawarte w module mogą być zaimportowane do innych modułów lub do modułu głównego. Wewnątrz modułu jego nazwa dostępna jest jako wartość zmiennej globalnej **<tt>\\__name__</tt>**."
      ]
    },
    {
      "cell_type": "markdown",
      "metadata": {
        "id": "XbiO89yhTftX"
      },
      "source": [
        "## Wybrane pakiety, moduły:\n",
        "\n",
        "* random - moduł ten zawiera funkcje obsługujące generowanie liczb pseudolosowych:"
      ]
    },
    {
      "cell_type": "code",
      "execution_count": null,
      "metadata": {
        "id": "pt6DEX_7TftX",
        "outputId": "22978d73-ade0-491a-aca8-8e8073710260"
      },
      "outputs": [
        {
          "name": "stdout",
          "output_type": "stream",
          "text": [
            "6\n",
            "5\n",
            "3\n"
          ]
        }
      ],
      "source": [
        "import random\n",
        "\n",
        "random.seed() # inicjalizacja generatora liczb pseudolosowych\n",
        "\n",
        "# losowanie liczb całkowitych z zakresu od..do.\n",
        "print(random.randint(1,10))\n",
        "print(random.randint(1,10))\n",
        "print(random.randint(1,10))"
      ]
    },
    {
      "cell_type": "markdown",
      "metadata": {
        "id": "jKEZJu0hTftX"
      },
      "source": [
        "* **math** - moduł ten zawiera definicje najczęściej używanych funkcji matematycznych:"
      ]
    },
    {
      "cell_type": "code",
      "execution_count": null,
      "metadata": {
        "id": "oZzysI5FTftX",
        "outputId": "05734fe6-d67a-4550-e59f-a3da639bc66c"
      },
      "outputs": [
        {
          "name": "stdout",
          "output_type": "stream",
          "text": [
            "5\n",
            "4\n",
            "3.0\n",
            "(0.5, 2.0)\n",
            "7.38905609893065\n",
            "1.0\n",
            "3.0\n",
            "1.5\n",
            "0.0\n",
            "0.5403023058681398\n"
          ]
        }
      ],
      "source": [
        "from math import *\n",
        "\n",
        "print(ceil(4.7)) # zwraca sufit liczby rzeczywistej\n",
        "print(floor(4.7)) # zwraca podłogę liczby rzeczywistej\n",
        "print(fabs(-3)) # zwraca wartość absolutną liczby rzeczywistej\n",
        "print(modf(2.5)) # zwraca krotkę zawierającą część ułamkową i całkowitą liczby rzeczywistej\n",
        "print(exp(2)) # zwraca e do potęgi x\n",
        "print(log(e)) # zwraca logarytm naturalny\n",
        "print(log(8, 2)) # zwraca logarytm o podstawie 2 (drugi parametr)\n",
        "print(sqrt(2.25)) # zwraca pierwiastek kwadratowy\n",
        "print(acos(1))\n",
        "print(cos(1))"
      ]
    },
    {
      "cell_type": "markdown",
      "metadata": {
        "id": "3sW4bStTTftX"
      },
      "source": [
        "\n",
        "# Zad. 9\n",
        "\n",
        "Wyestymować wartość liczby $\\pi$ metodą Monte Carlo.\n",
        "\n",
        "Pole kwadratu to $4r^2$, a pole koła wynosi $\\pi r^2$. W takim razie stosunek:\n",
        "$$\n",
        "\\frac{P_{kola}}{P_{kwadratu}} = \\frac{\\pi r^2}{4 r^2} = \\frac{\\pi}{4}.\n",
        "$$\n",
        "W konsekwencji:\n",
        "$$\n",
        "\\pi = 4 \\frac{P_{kola}}{P_{kwadratu}}.\n",
        "$$\n",
        "\n",
        "Jeżeli będziemy losować punkty o współrzędnych od $-2r$ do $2r$, to stosunek liczby punktów zawierających się w kole o środku w punkcie $(0,0)$ i promieniu $r$ do wszystkich wylosowanych punktów, będzie dążył w nieskończoności (z pewnym prawdopodobieństwem) do stosunku tego pola koła do koła kwadratu o boku $2r$.\n",
        "\n",
        "Cała metoda sprowadza się więc do tego, by losować punkty i sprawdzać, czy mieszczą się w kole."
      ]
    },
    {
      "cell_type": "code",
      "execution_count": 53,
      "metadata": {
        "colab": {
          "base_uri": "https://localhost:8080/"
        },
        "id": "2I7ekbPGTftX",
        "outputId": "fc2f66c9-ceae-4b86-b866-62956ba951b7"
      },
      "outputs": [
        {
          "output_type": "stream",
          "name": "stdout",
          "text": [
            "3.14672\n"
          ]
        }
      ],
      "source": [
        "import random\n",
        "random.seed()\n",
        "x={}\n",
        "y={}\n",
        "r=2\n",
        "counter_pi=0\n",
        "for i in range(100000):\n",
        "  x[i]=random.uniform(-2,2)\n",
        "  y[i]=random.uniform(-2,2)\n",
        "\n",
        "for i in range(100000):\n",
        "  if (x[i]**2+y[i]**2)<=r**2:\n",
        "    counter_pi+=1\n",
        "print(4*counter_pi/100000)"
      ]
    },
    {
      "cell_type": "code",
      "source": [],
      "metadata": {
        "id": "juGJzOsIj8TB"
      },
      "execution_count": null,
      "outputs": []
    }
  ],
  "metadata": {
    "kernelspec": {
      "display_name": "Python 3 (ipykernel)",
      "language": "python",
      "name": "python3"
    },
    "language_info": {
      "codemirror_mode": {
        "name": "ipython",
        "version": 3
      },
      "file_extension": ".py",
      "mimetype": "text/x-python",
      "name": "python",
      "nbconvert_exporter": "python",
      "pygments_lexer": "ipython3",
      "version": "3.8.10"
    },
    "colab": {
      "provenance": [],
      "include_colab_link": true
    }
  },
  "nbformat": 4,
  "nbformat_minor": 0
}